{
 "cells": [
  {
   "cell_type": "markdown",
   "metadata": {},
   "source": [
    "# Monte Carlo Simulation - Probit Model \n",
    "## Fabrizio Leone\n",
    "## 06 - 02 - 2019"
   ]
  },
  {
   "cell_type": "code",
   "execution_count": null,
   "metadata": {},
   "outputs": [],
   "source": [
    "# Import Packages\n",
    "\n",
    "#import Pkg; Pkg.add(\"Distributions\")\n",
    "#import Pkg; Pkg.add(\"LinearAlgebra\")\n",
    "#import Pkg; Pkg.add(\"Optim\")\n",
    "#import Pkg; Pkg.add(\"NLSolversBase\")\n",
    "#import Pkg; Pkg.add(\"Random\")\n",
    "#import Pkg; Pkg.add(\"Plots\")\n",
    "#import Pkg; Pkg.add(\"Statistics\")\n",
    "\n",
    "cd(\"$(homedir())/Documents/GitHub/Econometrics\")\n",
    "\n",
    "using Distributions, LinearAlgebra, Optim, NLSolversBase, Random, Plots, Statistics\n",
    "Random.seed!(10);"
   ]
  },
  {
   "cell_type": "code",
   "execution_count": null,
   "metadata": {},
   "outputs": [],
   "source": [
    "# Define Parameters\n",
    "\n",
    "N   = 1000;\n",
    "b   = [0.2, -0.1];\n",
    "rep = 1000;\n"
   ]
  },
  {
   "cell_type": "code",
   "execution_count": null,
   "metadata": {},
   "outputs": [],
   "source": [
    "# Define probit objective function\n",
    "\n",
    "function probit_obj(b::Array{Float64,1},y::Array{Int64,2},X::Array{Float64,2},N::Int64)\n",
    "    d    = Normal()\n",
    "    pcdf = cdf.(d, X*b)\n",
    "    ppdf = pdf.(d, X*b)\n",
    "    l    = y.*log.(pcdf) + (ones(N,1)-y).*log.(ones(N,1)-pcdf)    # Likelihood\n",
    "    s    = ppdf.*X.*(y-pcdf)./(pcdf.*(ones(N,1)-pcdf))            # Gradient\n",
    "    nll  = -mean(l)\n",
    "    ns   = -sum!([1. 1.], s)/N\n",
    "    return nll, ns\n",
    "end"
   ]
  },
  {
   "cell_type": "code",
   "execution_count": null,
   "metadata": {},
   "outputs": [],
   "source": [
    "# Run Monte Carlo Simulation\n",
    "\n",
    "beta_hat = zeros(N,2)\n",
    "\n",
    "@time begin\n",
    "    \n",
    "for i = 1:rep\n",
    "\n",
    "# 1. Simulate Data\n",
    "c    = ones(N,1);\n",
    "X    = hcat(c, rand(Chisq(10),N,1));\n",
    "ϵ    = rand(Normal(0,1),N,1);\n",
    "y    = Int.(X*b.>ϵ);\n",
    "         \n",
    "# 2. Run optimization     \n",
    "function objfun(x)\n",
    "        probit_obj([x[1],x[2]],y,X,N)[1]\n",
    "end\n",
    "        \n",
    "function gradfun!(G,x)\n",
    "        grad = probit_obj([x[1],x[2]],y,X,N)[2]\n",
    "        G[1] = grad[1]\n",
    "        G[2] = grad[2]\n",
    "end\n",
    "                \n",
    "res  = Optim.optimize(objfun, gradfun!,[0.0, 0.0])\n",
    "beta_hat[i,:]  = res.minimizer\n",
    "    \n",
    "end\n",
    "\n",
    "end"
   ]
  },
  {
   "cell_type": "code",
   "execution_count": null,
   "metadata": {},
   "outputs": [],
   "source": [
    "# Show and Plot results\n",
    "\n",
    "println(\"Mean Estimates \",sum!([1. 1.], beta_hat)/rep)\n",
    "println(\"SE Estimates \", std(beta_hat; mean=nothing, dims=1)/sqrt(N))\n",
    "h1 = histogram(beta_hat[:,1])\n",
    "h2 = histogram(beta_hat[:,2])\n",
    "plot(h1,h2,layout=(1,2),legend=false)\n"
   ]
  }
 ],
 "metadata": {
  "kernelspec": {
   "display_name": "Julia 1.1.0",
   "language": "julia",
   "name": "julia-1.1"
  },
  "language_info": {
   "file_extension": ".jl",
   "mimetype": "application/julia",
   "name": "julia",
   "version": "1.1.0"
  }
 },
 "nbformat": 4,
 "nbformat_minor": 2
}
