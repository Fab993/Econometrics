{
 "cells": [
  {
   "cell_type": "code",
   "execution_count": null,
   "metadata": {},
   "outputs": [],
   "source": [
    "# Monte Carlo Simulation - Logit Model \n",
    "# Fabrizio Leone\n",
    "# 05 - 02 - 2019"
   ]
  },
  {
   "cell_type": "code",
   "execution_count": null,
   "metadata": {},
   "outputs": [],
   "source": [
    "# Import Packages\n",
    "\n",
    "import Pkg; Pkg.add(\"Distributions\")\n",
    "import Pkg; Pkg.add(\"LinearAlgebra\")\n",
    "import Pkg; Pkg.add(\"Optim\")\n",
    "import Pkg; Pkg.add(\"NLSolversBase\")\n",
    "import Pkg; Pkg.add(\"Random\")\n",
    "import Pkg; Pkg.add(\"Plots\")\n",
    "import Pkg; Pkg.add(\"Statistics\")\n",
    "\n",
    "cd(\"$(homedir())/Documents/GitHub/Econometrics\")\n",
    "\n",
    "using Distributions, LinearAlgebra, Optim, NLSolversBase, Random, Plots, Statistics\n",
    "Random.seed!(10);"
   ]
  },
  {
   "cell_type": "code",
   "execution_count": null,
   "metadata": {},
   "outputs": [],
   "source": [
    "# Define Parameters\n",
    "\n",
    "N   = 1000;\n",
    "b   = [0.2, -0.1];\n",
    "rep = 1000;"
   ]
  },
  {
   "cell_type": "code",
   "execution_count": null,
   "metadata": {},
   "outputs": [],
   "source": [
    "# Define logit objective function\n",
    "\n",
    "function logit_obj(b::Vector,y::Vector,X::Array)\n",
    "    prob = exp.(X*b) ./ (ones(N,1)+ exp.(X*b))\n",
    "    l    = log.(y.*prob + (ones(N,1)-y).*(ones(N,1)-prob)) \n",
    "    nll  = -mean(l)\n",
    "    return nll\n",
    "end"
   ]
  },
  {
   "cell_type": "code",
   "execution_count": null,
   "metadata": {},
   "outputs": [],
   "source": [
    "# Run Monte Carlo Simulation\n",
    "\n",
    "beta_hat = zeros(N,2)\n",
    "\n",
    "@time begin\n",
    "    \n",
    "for i = 1:rep\n",
    "\n",
    "# 1. Simulate Data\n",
    "c    = ones(N,1);\n",
    "X    = hcat(c, rand(Chisq(10),N,1));\n",
    "ϵ    = -rand(Logistic(0,1),N,1);\n",
    "y    = Int.(X*b.>ϵ);\n",
    "        \n",
    "# 2. Run optimization     \n",
    "res = Optim.optimize(b->logit_obj(b,y,X), [0.0, 0.0])\n",
    "beta_hat[i,:]  = res.minimizer\n",
    "    \n",
    "end\n",
    "\n",
    "end"
   ]
  },
  {
   "cell_type": "code",
   "execution_count": null,
   "metadata": {},
   "outputs": [],
   "source": [
    "# Show and Plot results\n",
    "\n",
    "@show sum!([1. 1.], beta_hat)/rep\n",
    "@show std(beta_hat; mean=nothing, dims=1)/sqrt(N)\n",
    "h1 = histogram(beta_hat[:,1])\n",
    "h2 = histogram(beta_hat[:,2])\n",
    "plot(h1,h2,layout=(1,2),legend=false)"
   ]
  }
 ],
 "metadata": {
  "kernelspec": {
   "display_name": "Julia 1.1.0",
   "language": "julia",
   "name": "julia-1.1"
  },
  "language_info": {
   "file_extension": ".jl",
   "mimetype": "application/julia",
   "name": "julia",
   "version": "1.1.0"
  }
 },
 "nbformat": 4,
 "nbformat_minor": 2
}
