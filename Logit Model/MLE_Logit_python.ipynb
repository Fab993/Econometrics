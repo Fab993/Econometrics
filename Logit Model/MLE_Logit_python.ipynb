{
 "cells": [
  {
   "cell_type": "code",
   "execution_count": null,
   "metadata": {},
   "outputs": [],
   "source": [
    "# Monte Carlo Simulation - Logit Model \n",
    "## Fabrizio Leone\n",
    "## 08 - 04 - 2019"
   ]
  },
  {
   "cell_type": "code",
   "execution_count": 2,
   "metadata": {},
   "outputs": [],
   "source": [
    "import numpy as np\n",
    "import pandas as pd\n",
    "import matplotlib.pyplot as plt\n",
    "from scipy.optimize import minimize\n",
    "import time\n",
    "np.random.seed(10)"
   ]
  },
  {
   "cell_type": "code",
   "execution_count": 3,
   "metadata": {},
   "outputs": [
    {
     "name": "stdout",
     "output_type": "stream",
     "text": [
      "time elapsed: 2.755653142929077 seconds\n",
      "Mean across MC repetitions: [ 0.22135218 -0.10471825]\n"
     ]
    },
    {
     "data": {
      "image/png": "[encoded data removed]",
      "text/plain": [
       "<Figure size 432x288 with 2 Axes>"
      ]
     },
     "metadata": {
      "needs_background": "light"
     },
     "output_type": "display_data"
    }
   ],
   "source": [
    "# Define True parameters\n",
    "N     = 100\n",
    "beta  = np.array([0.2, -0.1])\n",
    "rep   = 1000\n",
    "\n",
    "# Define obj. function\n",
    "def logit_obj(beta):\n",
    "    prob = np.exp(X@beta) / (1 + np.exp(X@beta))\n",
    "    l    = np.log(y*prob + (1-y)*(1-prob))\n",
    "    nll  = -np.mean(l)\n",
    "    return nll\n",
    "\n",
    "# Define gradient\n",
    "\n",
    "def logit_gr(beta):\n",
    "    prob = np.exp(X@beta) / (1 + np.exp(X@beta))\n",
    "    v    = np.transpose(np.array([y*prob,y*prob]))\n",
    "    u    = np.transpose(np.array([(1-y)*prob,(1-y)*prob]))\n",
    "    s    = v*X - u*X\n",
    "    ns   = -np.mean(s,0)\n",
    "    return ns\n",
    "\n",
    "# Run Monte Carlo simulation\n",
    "res_out    = []\n",
    "start      = time.time()\n",
    "for i in range(rep):\n",
    "    X      = np.transpose(np.array([np.repeat(1,N), np.random.chisquare(10,N)]))\n",
    "    e      = np.random.logistic(0,1,N)\n",
    "    y      = X@beta > e\n",
    "    y      = y.astype(int)\n",
    "    #res    = minimize(logit_obj, beta, jac=logit_gr)\n",
    "    res    = minimize(logit_obj, beta)\n",
    "    res_out.append(res.x)\n",
    "end        = time.time()\n",
    "print(\"time elapsed:\", end-start, \"seconds\")\n",
    "\n",
    "# Print mean of estimates across MC repetitions\n",
    "\n",
    "res_out = np.array(res_out)\n",
    "print(\"Mean across MC repetitions:\", np.mean(res_out,0))\n",
    "\n",
    "# Plot estimates distribution across MC repetitions\n",
    "plt.subplot(1, 2, 1)\n",
    "plt.hist(res_out[:,0])\n",
    "plt.title(\"beta0\")\n",
    "\n",
    "plt.subplot(1, 2, 2)\n",
    "plt.hist(res_out[:,1])\n",
    "plt.title(\"beta1\")\n",
    "\n",
    "plt.show()"
   ]
  },
  {
   "cell_type": "code",
   "execution_count": null,
   "metadata": {},
   "outputs": [],
   "source": []
  }
 ],
 "metadata": {
  "kernelspec": {
   "display_name": "Python 3",
   "language": "python",
   "name": "python3"
  },
  "language_info": {
   "codemirror_mode": {
    "name": "ipython",
    "version": 3
   },
   "file_extension": ".py",
   "mimetype": "text/x-python",
   "name": "python",
   "nbconvert_exporter": "python",
   "pygments_lexer": "ipython3",
   "version": "3.7.3"
  }
 },
 "nbformat": 4,
 "nbformat_minor": 2
}
