{
 "cells": [
  {
   "cell_type": "code",
   "execution_count": null,
   "metadata": {},
   "outputs": [],
   "source": [
    "import numpy as np\n",
    "import pandas as pd\n",
    "import matplotlib.pyplot as plt\n",
    "from scipy.optimize import minimize\n",
    "import time\n",
    "np.random.seed(10)"
   ]
  },
  {
   "cell_type": "code",
   "execution_count": null,
   "metadata": {},
   "outputs": [],
   "source": [
    "Ncons          = 100                                                                                       # Tot. number of consumers per firm\n",
    "Nmkt           = 1                                                                                         # Number of markets\n",
    "Nprod          = 20                                                                                        # Number of products\n",
    "beta           = np.array([3,1])                                                                           # True value\n",
    "\n",
    "def create_data(Ncons, Nmkt, Nprod, beta):\n",
    "    data_mu        = np.random.normal(0,1,7)                                                               # Mean data (A and Z)    \n",
    "    data_var       = [ [ 0.9920,  -0.3210,    0.2962,    0.3144,    0.5061,   -0.0014,     0.0077],\n",
    "                     [-0.3210,   0.9996,    0.3459,    0.2765,    0.0062,    0.4638,     0.0413],\n",
    "                     [ 0.2962,   0.3459,    1.0341,    0.3082,    0.0301,   -0.0101,     0.5034],\n",
    "                     [ 0.3144,   0.2765,    0.3082,    1.8842,    0.7012,    0.6674,     0.6345],\n",
    "                     [ 0.5061,   0.0062,    0.0301,    0.7012,    1.0150,    0.1950,     0.2173],\n",
    "                     [-0.0014,   0.4638,   -0.0101,    0.6674,    0.1950,    0.9788,     0.1860],\n",
    "                     [ 0.0077,   0.0413,    0.5034,    0.6345,    0.2173,    0.1860,     0.9548] ]          # Var-cov matrix of the data\n",
    "    IDprod         = np.sum(np.kron(np.identity(Nmkt),np.linspace(1,Nprod,Nprod)),0)                        # IDprod\n",
    "    IDmkt          = np.sum(np.kron(np.linspace(1,Nmkt,Nmkt),np.identity(Nprod)),0)                         # IDmkt\n",
    "    X              = np.array(np.random.multivariate_normal(data_mu, data_var, Nprod*Nmkt))                 # Draw matrix of exogenous prod characteristics and instruments\n",
    "    e              = np.random.gumbel(0,1,(Nprod*Nmkt,Ncons))\n",
    "    Const          = np.ones(Nprod*Nmkt)\n",
    "    u              = np.zeros([Nprod*Nmkt,Ncons])\n",
    "    for i in range(Ncons):\n",
    "        u[:,i]             = Const*beta[0] + X[:,1]*beta[1] + e[:,i]\n",
    "        #u[:,i]             = X[:,0]*beta[0] + X[:,1]*beta[1] + e[:,i]\n",
    "        #u[:,i]             = X[:,0]*beta + e[:,i]\n",
    "    y              = np.argmax(u,axis=0)                                                                    # Consumer choice\n",
    "    return([y,X,Const])"
   ]
  },
  {
   "cell_type": "code",
   "execution_count": null,
   "metadata": {},
   "outputs": [],
   "source": [
    "def obj_fun(beta):\n",
    "    #prob = np.exp(X[:,0]*beta[0] + X[:,1]*beta[1]) / ( 1+np.sum(np.exp(X[:,0]*beta[0] + X[:,1]*beta[1])) )\n",
    "    prob = np.exp(Const*beta[0] + X[:,1]*beta[1]) / ( 1+np.sum(np.exp(Const*beta[0] + X[:,1]*beta[1])) )\n",
    "    ll   = - np.sum(np.log(prob[y]))\n",
    "    return(ll)"
   ]
  },
  {
   "cell_type": "code",
   "execution_count": 64,
   "metadata": {},
   "outputs": [
    {
     "name": "stdout",
     "output_type": "stream",
     "text": [
      "time elapsed: 5.256475925445557 seconds\n"
     ]
    },
    {
     "data": {
      "text/plain": [
       "array([3.18786843, 1.00215514])"
      ]
     },
     "execution_count": 64,
     "metadata": {},
     "output_type": "execute_result"
    }
   ],
   "source": [
    "Nrep = 1000\n",
    "res  = np.zeros([2,Nrep])\n",
    "\n",
    "start             = time.time()\n",
    "\n",
    "for i in range(Nrep):\n",
    "    data    = create_data(Ncons, Nmkt, Nprod, beta)\n",
    "    y       = data[0]\n",
    "    X       = data[1]\n",
    "    Const   = data[2]\n",
    "    res[:,i]  = minimize(obj_fun, np.array([0,0])).x\n",
    "    #print(obj_fun(res[:,i]))\n",
    "    \n",
    "end               = time.time() \n",
    "print(\"time elapsed:\", end-start, \"seconds\")\n",
    "\n",
    "np.mean(res,1)\n",
    "# Understand: cannot identify constant term?"
   ]
  },
  {
   "cell_type": "code",
   "execution_count": null,
   "metadata": {},
   "outputs": [],
   "source": []
  }
 ],
 "metadata": {
  "kernelspec": {
   "display_name": "Python 3",
   "language": "python",
   "name": "python3"
  },
  "language_info": {
   "codemirror_mode": {
    "name": "ipython",
    "version": 3
   },
   "file_extension": ".py",
   "mimetype": "text/x-python",
   "name": "python",
   "nbconvert_exporter": "python",
   "pygments_lexer": "ipython3",
   "version": "3.7.3"
  }
 },
 "nbformat": 4,
 "nbformat_minor": 2
}
